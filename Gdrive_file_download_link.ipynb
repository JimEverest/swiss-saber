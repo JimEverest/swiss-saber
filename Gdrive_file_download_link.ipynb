{
  "nbformat": 4,
  "nbformat_minor": 0,
  "metadata": {
    "colab": {
      "name": "Gdrive file download link.ipynb",
      "provenance": [],
      "collapsed_sections": [],
      "include_colab_link": true
    },
    "kernelspec": {
      "name": "python3",
      "display_name": "Python 3"
    }
  },
  "cells": [
    {
      "cell_type": "markdown",
      "metadata": {
        "id": "view-in-github",
        "colab_type": "text"
      },
      "source": [
        "<a href=\"https://colab.research.google.com/github/JimEverest/swiss-saber/blob/master/Gdrive_file_download_link.ipynb\" target=\"_parent\"><img src=\"https://colab.research.google.com/assets/colab-badge.svg\" alt=\"Open In Colab\"/></a>"
      ]
    },
    {
      "cell_type": "code",
      "metadata": {
        "id": "zzv-fgICxKhz",
        "colab_type": "code",
        "colab": {}
      },
      "source": [
        "import os\n",
        "import requests "
      ],
      "execution_count": 0,
      "outputs": []
    },
    {
      "cell_type": "code",
      "metadata": {
        "id": "6a1XqWzXtdpw",
        "colab_type": "code",
        "colab": {}
      },
      "source": [
        "def get_Dlink_by_sLink():\n",
        "  share_link = input(\"Gdrive file share link: \")\n",
        "  file_id = share_link.split(\"file/d/\")[1]\n",
        "  file_id = file_id.split(\"/view\")[0]\n",
        "\n",
        "  download_link= \"https://drive.google.com/uc?export=download&id=%s\"%(file_id)\n",
        "  print(download_link)\n",
        "  return download_link"
      ],
      "execution_count": 0,
      "outputs": []
    },
    {
      "cell_type": "code",
      "metadata": {
        "id": "PED9t06ou26L",
        "colab_type": "code",
        "colab": {}
      },
      "source": [
        "def Download_file_2_Drive(url,path):\n",
        "  file_url = url #\"https://download.microsoft.com/download/3/E/1/3E1C3F21-ECDB-4869-8368-6DEBA77B919F/kagglecatsanddogs_3367a.zip\"\n",
        "  file_name = file_url.split(\"/\")[-1]\n",
        "  r = requests.get(file_url, stream = True)  \n",
        "\n",
        "  dest_path = path #\"/content/drive/Shared drives/Share/Data/\"\n",
        "  os.makedirs(dest_path, exist_ok=True)\n",
        "  dest_path = os.path.join(dest_path,file_name)\n",
        "  with open(dest_path, \"wb\") as file:  \n",
        "      for block in r.iter_content(chunk_size = 1024): \n",
        "          if block:  \n",
        "              file.write(block)  "
      ],
      "execution_count": 0,
      "outputs": []
    },
    {
      "cell_type": "code",
      "metadata": {
        "id": "fETM6dmevNSI",
        "colab_type": "code",
        "colab": {}
      },
      "source": [
        "from google.colab import drive\n",
        "drive.mount('/content/drive')"
      ],
      "execution_count": 0,
      "outputs": []
    },
    {
      "cell_type": "code",
      "metadata": {
        "id": "lBSYrFv6HfEb",
        "colab_type": "code",
        "colab": {}
      },
      "source": [
        "!cp \"/content/drive/Shared drives/Share/Data/kagglecatsanddogs_3367a.zip\" \"/tmp/cats-and-dogs1.zip\""
      ],
      "execution_count": 0,
      "outputs": []
    },
    {
      "cell_type": "code",
      "metadata": {
        "id": "0IDqyA-fGVBd",
        "colab_type": "code",
        "colab": {}
      },
      "source": [
        "dlink = \"https://drive.google.com/uc?export=download&confirm=hGYz&id=1-58NWGj3awqsvW5cl-XQF1N1TukOko1-\""
      ],
      "execution_count": 0,
      "outputs": []
    },
    {
      "cell_type": "code",
      "metadata": {
        "id": "o4RBlk3Ctkkq",
        "colab_type": "code",
        "colab": {}
      },
      "source": [
        " \n",
        "Download_file_2_Drive(\"/content/drive/Shared drives/Share/Data/kagglecatsanddogs_3367a.zip\",\"/tmp/cats-and-dogs.zip\")"
      ],
      "execution_count": 0,
      "outputs": []
    },
    {
      "cell_type": "code",
      "metadata": {
        "id": "LtZTjdP_32_y",
        "colab_type": "code",
        "colab": {
          "base_uri": "https://localhost:8080/",
          "height": 136
        },
        "outputId": "ec3d059f-1a5d-4f96-cd8b-22c5927c8c43"
      },
      "source": [
        "!wget --no-check-certificate  {dlink}  -O \"/tmp/cats-and-dogs3.zip\""
      ],
      "execution_count": 39,
      "outputs": [
        {
          "output_type": "stream",
          "text": [
            "/bin/bash: -O: command not found\n",
            "--2020-01-08 07:42:11--  https://drive.google.com/uc?export=download\n",
            "Resolving drive.google.com (drive.google.com)... 74.125.20.113, 74.125.20.100, 74.125.20.139, ...\n",
            "Connecting to drive.google.com (drive.google.com)|74.125.20.113|:443... connected.\n",
            "HTTP request sent, awaiting response... 400 Bad Request\n",
            "2020-01-08 07:42:11 ERROR 400: Bad Request.\n",
            "\n"
          ],
          "name": "stdout"
        }
      ]
    },
    {
      "cell_type": "markdown",
      "metadata": {
        "id": "NUz_JPpDIaoX",
        "colab_type": "text"
      },
      "source": [
        "1. Download from external url to my drive\n",
        "2. CP to colab runtime folders"
      ]
    },
    {
      "cell_type": "code",
      "metadata": {
        "id": "cCn3ZJujGm7u",
        "colab_type": "code",
        "colab": {}
      },
      "source": [
        ""
      ],
      "execution_count": 0,
      "outputs": []
    }
  ]
}